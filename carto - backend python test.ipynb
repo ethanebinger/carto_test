{
 "cells": [
  {
   "cell_type": "markdown",
   "metadata": {},
   "source": [
    "# [Carto Back End Python Code Test](https://gist.github.com/jorgesancha/2a8027e5a89a2ea1693d63a45afdd8b6)\n",
    "\n",
    "#### Ethan Ebinger\n",
    "\n",
    "*Build the following and make it run as fast as you possibly can using Python 3 (vanilla). The faster it runs, the more you will impress us!*\n",
    "\n",
    "*Your code should:*\n",
    "\n",
    "- *Download this ~2GB file: https://s3.amazonaws.com/carto-1000x/data/yellow_tripdata_2016-01.csv*\n",
    "- *Count the lines in the file*\n",
    "- *Calculate the average value of the tip_amount field.*\n",
    "\n",
    "*All of that in the most efficient way you can come up with.*\n",
    "\n",
    "*That's it. Make it fly!*"
   ]
  },
  {
   "cell_type": "code",
   "execution_count": 1,
   "metadata": {},
   "outputs": [],
   "source": [
    "import time\n",
    "import numpy as np\n",
    "import pandas as pd"
   ]
  },
  {
   "cell_type": "code",
   "execution_count": 3,
   "metadata": {},
   "outputs": [
    {
     "name": "stdout",
     "output_type": "stream",
     "text": [
      "Lines in file: 10906858\n",
      "Average value of the tip_amount field: 1.7506631158120873\n",
      "Elapsed time: 15.021510362625122\n"
     ]
    }
   ],
   "source": [
    "# start time!\n",
    "start = time.time()\n",
    "\n",
    "# define file to read, chunksize, and variables to store data\n",
    "filename = \"data/yellow_tripdata_2016-01.csv\"\n",
    "chunksize = 10**5\n",
    "lines = 0\n",
    "tip_sum = 0\n",
    "\n",
    "# read file by chunksize, count lines and total tip within each chunk\n",
    "for chunk in pd.read_csv(filename, chunksize=chunksize, usecols=['tip_amount'], squeeze=True):\n",
    "    lines += len(chunk)\n",
    "    tip_sum += chunk.sum()\n",
    "\n",
    "# calculate average tip\n",
    "tip_avg = tip_sum / lines\n",
    "\n",
    "# print results\n",
    "print(\"Lines in file:\", lines)\n",
    "print(\"Average value of the tip_amount field:\", tip_avg)\n",
    "\n",
    "# end time\n",
    "print('Elapsed time:', time.time()-start)"
   ]
  },
  {
   "cell_type": "code",
   "execution_count": null,
   "metadata": {},
   "outputs": [],
   "source": []
  }
 ],
 "metadata": {
  "kernelspec": {
   "display_name": "Python 3",
   "language": "python",
   "name": "python3"
  },
  "language_info": {
   "codemirror_mode": {
    "name": "ipython",
    "version": 3
   },
   "file_extension": ".py",
   "mimetype": "text/x-python",
   "name": "python",
   "nbconvert_exporter": "python",
   "pygments_lexer": "ipython3",
   "version": "3.7.6"
  }
 },
 "nbformat": 4,
 "nbformat_minor": 4
}
